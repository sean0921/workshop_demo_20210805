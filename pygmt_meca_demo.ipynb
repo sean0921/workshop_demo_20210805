{
 "cells": [
  {
   "cell_type": "markdown",
   "id": "e8272bdf",
   "metadata": {},
   "source": [
    "# PyGMT on Jupyter Notebook: Focal Mechanism\n",
    "\n",
    "This is a simple demo to show how PyGMT can be used on Jupyter Notebook.\n",
    "Here uses Focal Mechenism (`psmeca`) as an example.\n",
    "\n",
    "## Reference\n",
    "\n",
    "線上震源機制解: <http://qcntw.earth.sinica.edu.tw/beachball/>"
   ]
  },
  {
   "cell_type": "code",
   "execution_count": 1,
   "id": "b47e8eec",
   "metadata": {},
   "outputs": [],
   "source": [
    "import pygmt\n",
    "from ipywidgets import interact"
   ]
  },
  {
   "cell_type": "code",
   "execution_count": 2,
   "id": "161d997e",
   "metadata": {},
   "outputs": [],
   "source": [
    "let_notebook_slience_1 = pygmt.config(FONT_TITLE=12)\n",
    "let_notebook_slience_2 = pygmt.config(MAP_TITLE_OFFSET='-1c')"
   ]
  },
  {
   "cell_type": "code",
   "execution_count": 5,
   "id": "2c7ff209",
   "metadata": {},
   "outputs": [
    {
     "data": {
      "application/vnd.jupyter.widget-view+json": {
       "model_id": "a72a519720c14c4da83505a7e92299ae",
       "version_major": 2,
       "version_minor": 0
      },
      "text/plain": [
       "interactive(children=(IntSlider(value=180, description='strike', max=360), IntSlider(value=45, description='di…"
      ]
     },
     "metadata": {},
     "output_type": "display_data"
    }
   ],
   "source": [
    "@interact(strike=(0,360), dip=(0,90), rake=(-180,180), tcolor_r=(0,255), tcolor_g=(0,255), tcolor_b=(0,255), title='Simple Focal Mechanism')\n",
    "def pygmt_simplemeca(strike,dip,rake,tcolor_r,tcolor_g,tcolor_b,title):\n",
    "    fig = pygmt.Figure()\n",
    "    fig.basemap(\n",
    "        region=[-1, 1, -1, 1], \n",
    "        projection=\"M6c\",\n",
    "        frame=[f'+n+t\"{title}\"']\n",
    "    )\n",
    "    focal_mechanism = dict(strike=strike, dip=dip, rake=rake, magnitude=3)\n",
    "    fig.meca(focal_mechanism, scale=\"6c\", longitude=0, latitude=0, depth=0, G=f'{tcolor_r}/{tcolor_g}/{tcolor_b}')\n",
    "    fig.text(x=0, y=0, text=f'{strike}/{dip}/{rake}', offset='0/-2.5',font='8p')\n",
    "    fig.show()"
   ]
  },
  {
   "cell_type": "code",
   "execution_count": null,
   "id": "c3c61382",
   "metadata": {},
   "outputs": [],
   "source": []
  }
 ],
 "metadata": {
  "kernelspec": {
   "display_name": "Python 3 (ipykernel)",
   "language": "python",
   "name": "python3"
  },
  "language_info": {
   "codemirror_mode": {
    "name": "ipython",
    "version": 3
   },
   "file_extension": ".py",
   "mimetype": "text/x-python",
   "name": "python",
   "nbconvert_exporter": "python",
   "pygments_lexer": "ipython3",
   "version": "3.8.10"
  }
 },
 "nbformat": 4,
 "nbformat_minor": 5
}
